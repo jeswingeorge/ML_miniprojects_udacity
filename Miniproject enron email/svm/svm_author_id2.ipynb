{
 "cells": [
  {
   "cell_type": "code",
   "execution_count": 1,
   "metadata": {},
   "outputs": [
    {
     "name": "stderr",
     "output_type": "stream",
     "text": [
      "C:\\Anaconda3\\envs\\py2_env\\lib\\site-packages\\sklearn\\cross_validation.py:41: DeprecationWarning: This module was deprecated in version 0.18 in favor of the model_selection module into which all the refactored classes and functions are moved. Also note that the interface of the new CV iterators are different from that of this module. This module will be removed in 0.20.\n",
      "  \"This module will be removed in 0.20.\", DeprecationWarning)\n"
     ]
    }
   ],
   "source": [
    "\"\"\" \n",
    "    This is the code to accompany the Lesson 2 (SVM) mini-project.\n",
    "\n",
    "    Use a SVM to identify emails from the Enron corpus by their authors:    \n",
    "    Sara has label 0\n",
    "    Chris has label 1\n",
    "\n",
    "features_train and features_test are the features for the training\n",
    "and testing datasets, respectively\n",
    "labels_train and labels_test are the corresponding item labels.\n",
    "-------------------------------------------------------------------------\n",
    "\"\"\"\n",
    "    \n",
    "import sys\n",
    "from time import time\n",
    "sys.path.append(\"../tools/\")\n",
    "from email_preprocess import preprocess"
   ]
  },
  {
   "cell_type": "code",
   "execution_count": 2,
   "metadata": {},
   "outputs": [
    {
     "name": "stdout",
     "output_type": "stream",
     "text": [
      "no. of Chris training emails: 7936\n",
      "no. of Sara training emails: 7884\n"
     ]
    }
   ],
   "source": [
    "features_train, features_test, labels_train, labels_test = preprocess()"
   ]
  },
  {
   "cell_type": "code",
   "execution_count": 3,
   "metadata": {
    "collapsed": true
   },
   "outputs": [],
   "source": [
    "from sklearn.svm import SVC\n",
    "from sklearn.metrics import accuracy_score"
   ]
  },
  {
   "cell_type": "markdown",
   "metadata": {},
   "source": [
    "## Accuracy of author identification"
   ]
  },
  {
   "cell_type": "code",
   "execution_count": 4,
   "metadata": {},
   "outputs": [
    {
     "name": "stdout",
     "output_type": "stream",
     "text": [
      "training time:  215.463 s\n",
      "testing time:  20.163 s\n",
      "Accuracy of SVC classifier is :  0.984072810011\n"
     ]
    }
   ],
   "source": [
    "clf = SVC(kernel=\"linear\")\n",
    "\n",
    "t0 = time()\n",
    "clf.fit(features_train, labels_train)\n",
    "print \"training time: \", round(time()-t0, 3), \"s\"\n",
    "\n",
    "\n",
    "t0 = time()\n",
    "pred = clf.predict(features_test)\n",
    "print \"testing time: \", round(time()-t0, 3), \"s\"\n",
    "\n",
    "accuracy = accuracy_score(labels_test, pred)\n",
    "print \"Accuracy of SVC classifier is : \", accuracy"
   ]
  },
  {
   "cell_type": "markdown",
   "metadata": {},
   "source": [
    "## A Smaller Training Set\n",
    "One way to speed up an algorithm is to train it on a smaller training dataset.   \n",
    "The tradeoff is that the accuracy almost always goes down when you do this."
   ]
  },
  {
   "cell_type": "code",
   "execution_count": 5,
   "metadata": {},
   "outputs": [
    {
     "name": "stdout",
     "output_type": "stream",
     "text": [
      "training time after using smaller training dataset :  0.125 s\n",
      "testing time after using smaller training dataset :  1.347 s\n",
      "Accuracy of SVC classifier after using smaller training dataset is :  0.884527872582\n"
     ]
    }
   ],
   "source": [
    "clf = SVC(kernel=\"linear\")\n",
    "\n",
    "# Reducing size of training data to improve training time \n",
    "features_train = features_train[:len(features_train)/100] \n",
    "labels_train = labels_train[:len(labels_train)/100] \n",
    "\n",
    "t0 = time()\n",
    "clf.fit(features_train, labels_train)\n",
    "print \"training time after using smaller training dataset : \", round(time()-t0, 3), \"s\"\n",
    "\n",
    "\n",
    "t0 = time()\n",
    "pred = clf.predict(features_test)\n",
    "print \"testing time after using smaller training dataset : \", round(time()-t0, 3), \"s\"\n",
    "\n",
    "accuracy = accuracy_score(labels_test, pred)\n",
    "print \"Accuracy of SVC classifier after using smaller training dataset is : \", accuracy"
   ]
  },
  {
   "cell_type": "markdown",
   "metadata": {},
   "source": [
    "__Only 1% of the features, but over 88% the performance?  Not too shabby!__"
   ]
  },
  {
   "cell_type": "markdown",
   "metadata": {},
   "source": [
    "## Deploying RBF kernel"
   ]
  },
  {
   "cell_type": "code",
   "execution_count": 6,
   "metadata": {},
   "outputs": [
    {
     "name": "stdout",
     "output_type": "stream",
     "text": [
      "training time after using smaller training dataset and rbf kernel :  0.136 s\n",
      "testing time after using smaller training dataset and rbf kernel :  1.645 s\n",
      "Accuracy of SVC classifier after using smaller training dataset and rbf kernel is :  0.616040955631\n"
     ]
    }
   ],
   "source": [
    "clf = SVC(kernel=\"rbf\")\n",
    "\n",
    "# Reducing size of training data to improve training time \n",
    "#features_train = features_train[:len(features_train)/100] \n",
    "#labels_train = labels_train[:len(labels_train)/100] \n",
    "# Using the same reduced dataset as used above.\n",
    "\n",
    "t0 = time()\n",
    "clf.fit(features_train, labels_train)\n",
    "print \"training time after using smaller training dataset and rbf kernel : \", round(time()-t0, 3), \"s\"\n",
    "\n",
    "\n",
    "t0 = time()\n",
    "pred = clf.predict(features_test)\n",
    "print \"testing time after using smaller training dataset and rbf kernel : \", round(time()-t0, 3), \"s\"\n",
    "\n",
    "accuracy = accuracy_score(labels_test, pred)\n",
    "print \"Accuracy of SVC classifier after using smaller training dataset and rbf kernel is : \", accuracy"
   ]
  },
  {
   "cell_type": "markdown",
   "metadata": {},
   "source": [
    "__So accuracy decreases when dataset size is reduced and rbf kernel is used.__ "
   ]
  },
  {
   "cell_type": "markdown",
   "metadata": {},
   "source": [
    "## Optimize C Parameter and find which value of C gives better accuracy \n",
    "\n",
    "Keeping the __rbf__ kernel and same size of dataset.  \n",
    "Changing values of C\n",
    "\n",
    "#### C = 10.0"
   ]
  },
  {
   "cell_type": "code",
   "execution_count": 7,
   "metadata": {},
   "outputs": [
    {
     "name": "stdout",
     "output_type": "stream",
     "text": [
      "training time after using smaller training dataset and rbf kernel (and C = 10) :  0.135 s\n",
      "testing time after using smaller training dataset and rbf kernel (and C = 10) :  1.447 s\n",
      "Accuracy of SVC classifier after using smaller training dataset and rbf kernel (and C = 10) is :  0.616040955631\n"
     ]
    }
   ],
   "source": [
    "clf = SVC(kernel=\"rbf\", C = 10.0)\n",
    "\n",
    "t0 = time()\n",
    "clf.fit(features_train, labels_train)\n",
    "print \"training time after using smaller training dataset and rbf kernel (and C = 10) : \", round(time()-t0, 3), \"s\"\n",
    "\n",
    "\n",
    "t0 = time()\n",
    "pred = clf.predict(features_test)\n",
    "print \"testing time after using smaller training dataset and rbf kernel (and C = 10) : \", round(time()-t0, 3), \"s\"\n",
    "\n",
    "accuracy = accuracy_score(labels_test, pred)\n",
    "print \"Accuracy of SVC classifier after using smaller training dataset and rbf kernel (and C = 10) is : \", accuracy"
   ]
  },
  {
   "cell_type": "markdown",
   "metadata": {},
   "source": [
    "#### C = 100.0"
   ]
  },
  {
   "cell_type": "code",
   "execution_count": 8,
   "metadata": {},
   "outputs": [
    {
     "name": "stdout",
     "output_type": "stream",
     "text": [
      "training time after using smaller training dataset and rbf kernel (and C = 100.0) :  0.17 s\n",
      "testing time after using smaller training dataset and rbf kernel (and C = 100.0) :  1.63 s\n",
      "Accuracy of SVC classifier after using smaller training dataset and rbf kernel (and C = 100.0) is :  0.616040955631\n"
     ]
    }
   ],
   "source": [
    "clf = SVC(kernel=\"rbf\", C = 100.0)\n",
    "\n",
    "t0 = time()\n",
    "clf.fit(features_train, labels_train)\n",
    "print \"training time after using smaller training dataset and rbf kernel (and C = 100.0) : \", round(time()-t0, 3), \"s\"\n",
    "\n",
    "\n",
    "t0 = time()\n",
    "pred = clf.predict(features_test)\n",
    "print \"testing time after using smaller training dataset and rbf kernel (and C = 100.0) : \", round(time()-t0, 3), \"s\"\n",
    "\n",
    "accuracy = accuracy_score(labels_test, pred)\n",
    "print \"Accuracy of SVC classifier after using smaller training dataset and rbf kernel (and C = 100.0) is : \", accuracy"
   ]
  },
  {
   "cell_type": "markdown",
   "metadata": {},
   "source": [
    "#### C = 1000.0"
   ]
  },
  {
   "cell_type": "code",
   "execution_count": 9,
   "metadata": {},
   "outputs": [
    {
     "name": "stdout",
     "output_type": "stream",
     "text": [
      "training time after using smaller training dataset and rbf kernel (and C = 1000.0) :  0.135 s\n",
      "testing time after using smaller training dataset and rbf kernel (and C = 1000.0) :  1.287 s\n",
      "Accuracy of SVC classifier after using smaller training dataset and rbf kernel (and C = 1000.0) is :  0.821387940842\n"
     ]
    }
   ],
   "source": [
    "clf = SVC(kernel=\"rbf\", C = 1000.0)\n",
    "\n",
    "t0 = time()\n",
    "clf.fit(features_train, labels_train)\n",
    "print \"training time after using smaller training dataset and rbf kernel (and C = 1000.0) : \", round(time()-t0, 3), \"s\"\n",
    "\n",
    "\n",
    "t0 = time()\n",
    "pred = clf.predict(features_test)\n",
    "print \"testing time after using smaller training dataset and rbf kernel (and C = 1000.0) : \", round(time()-t0, 3), \"s\"\n",
    "\n",
    "accuracy = accuracy_score(labels_test, pred)\n",
    "print \"Accuracy of SVC classifier after using smaller training dataset and rbf kernel (and C = 1000.0) is : \", accuracy"
   ]
  },
  {
   "cell_type": "markdown",
   "metadata": {},
   "source": [
    "#### C = 10000.0"
   ]
  },
  {
   "cell_type": "code",
   "execution_count": 10,
   "metadata": {},
   "outputs": [
    {
     "name": "stdout",
     "output_type": "stream",
     "text": [
      "training time after using smaller training dataset and rbf kernel (and C = 10000.0) :  0.139 s\n",
      "testing time after using smaller training dataset and rbf kernel (and C = 10000.0) :  1.383 s\n",
      "Accuracy of SVC classifier after using smaller training dataset and rbf kernel (and C = 10000.0) is :  0.892491467577\n"
     ]
    }
   ],
   "source": [
    "clf = SVC(kernel=\"rbf\", C = 10000.0)\n",
    "\n",
    "t0 = time()\n",
    "clf.fit(features_train, labels_train)\n",
    "print \"training time after using smaller training dataset and rbf kernel (and C = 10000.0) : \", round(time()-t0, 3), \"s\"\n",
    "\n",
    "\n",
    "t0 = time()\n",
    "pred = clf.predict(features_test)\n",
    "print \"testing time after using smaller training dataset and rbf kernel (and C = 10000.0) : \", round(time()-t0, 3), \"s\"\n",
    "\n",
    "accuracy = accuracy_score(labels_test, pred)\n",
    "print \"Accuracy of SVC classifier after using smaller training dataset and rbf kernel (and C = 10000.0) is : \", accuracy"
   ]
  },
  {
   "cell_type": "code",
   "execution_count": 11,
   "metadata": {},
   "outputs": [
    {
     "name": "stdout",
     "output_type": "stream",
     "text": [
      "no. of Chris training emails: 7936\n",
      "no. of Sara training emails: 7884\n"
     ]
    }
   ],
   "source": [
    "# Using the larger dataset\n",
    "features_train, features_test, labels_train, labels_test = preprocess()"
   ]
  },
  {
   "cell_type": "code",
   "execution_count": 12,
   "metadata": {},
   "outputs": [
    {
     "name": "stdout",
     "output_type": "stream",
     "text": [
      "training time using rbf kernel (and C = 10000.0) :  140.817 s\n",
      "testing time using rbf kernel (and C = 10000.0) :  15.599 s\n",
      "Accuracy of SVC classifier after using rbf kernel (and C = 10000.0) is :  0.990898748578\n"
     ]
    }
   ],
   "source": [
    "clf = SVC(kernel=\"rbf\", C = 10000.0)\n",
    "\n",
    "t0 = time()\n",
    "clf.fit(features_train, labels_train)\n",
    "print \"training time using rbf kernel (and C = 10000.0) : \", round(time()-t0, 3), \"s\"\n",
    "\n",
    "\n",
    "t0 = time()\n",
    "pred = clf.predict(features_test)\n",
    "print \"testing time using rbf kernel (and C = 10000.0) : \", round(time()-t0, 3), \"s\"\n",
    "\n",
    "accuracy = accuracy_score(labels_test, pred)\n",
    "print \"Accuracy of SVC classifier after using rbf kernel (and C = 10000.0) is : \", accuracy"
   ]
  },
  {
   "cell_type": "markdown",
   "metadata": {},
   "source": [
    "## Extracting Predictions From An SVM\n",
    "\n",
    "What class does your SVM (0 or 1, corresponding to Sara and Chris respectively) predict for element 10 of the test set? The 26th? The 50th? (Use the RBF kernel, C=10000, and 1% of the training set. Normally you'd get the best results using the full training set, but we found that using 1% sped up the computation considerably and did not change our results--so feel free to use that shortcut here.)\n",
    "\n",
    "And just to be clear, the data point numbers that we give here (10, 26, 50) assume a zero-indexed list. So the correct answer for element _100_ would be found using something like __answer=pred[100]__"
   ]
  },
  {
   "cell_type": "code",
   "execution_count": 15,
   "metadata": {},
   "outputs": [
    {
     "name": "stdout",
     "output_type": "stream",
     "text": [
      "0\n"
     ]
    }
   ],
   "source": [
    "print pred[100]"
   ]
  },
  {
   "cell_type": "code",
   "execution_count": 16,
   "metadata": {},
   "outputs": [
    {
     "name": "stdout",
     "output_type": "stream",
     "text": [
      "1\n"
     ]
    }
   ],
   "source": [
    "print pred[10]"
   ]
  },
  {
   "cell_type": "code",
   "execution_count": 17,
   "metadata": {},
   "outputs": [
    {
     "name": "stdout",
     "output_type": "stream",
     "text": [
      "0\n"
     ]
    }
   ],
   "source": [
    "print pred[26]"
   ]
  },
  {
   "cell_type": "code",
   "execution_count": 18,
   "metadata": {},
   "outputs": [
    {
     "name": "stdout",
     "output_type": "stream",
     "text": [
      "1\n"
     ]
    }
   ],
   "source": [
    "print pred[50]"
   ]
  },
  {
   "cell_type": "markdown",
   "metadata": {},
   "source": [
    "## How Many Chris Emails Predicted? \n",
    "There are over 1700 test events--how many are predicted to be in the “Chris” (1) class? (Use the RBF kernel, C=10000., and the full training set.)"
   ]
  },
  {
   "cell_type": "code",
   "execution_count": 19,
   "metadata": {},
   "outputs": [
    {
     "name": "stdout",
     "output_type": "stream",
     "text": [
      "Number of predicted Chris' Emails :  877\n",
      "Number of predicted Sara's Emails :  881\n"
     ]
    }
   ],
   "source": [
    "Chris = 0\n",
    "Sara = 0\n",
    "for i in pred:\n",
    "    if i==1:\n",
    "        Chris += 1\n",
    "    else:\n",
    "        Sara += 1\n",
    "\n",
    "print \"Number of predicted Chris' Emails : \", Chris\n",
    "print \"Number of predicted Sara's Emails : \", Sara"
   ]
  },
  {
   "cell_type": "code",
   "execution_count": null,
   "metadata": {
    "collapsed": true
   },
   "outputs": [],
   "source": []
  }
 ],
 "metadata": {
  "kernelspec": {
   "display_name": "Python 2",
   "language": "python",
   "name": "python2"
  },
  "language_info": {
   "codemirror_mode": {
    "name": "ipython",
    "version": 2
   },
   "file_extension": ".py",
   "mimetype": "text/x-python",
   "name": "python",
   "nbconvert_exporter": "python",
   "pygments_lexer": "ipython2",
   "version": "2.7.14"
  }
 },
 "nbformat": 4,
 "nbformat_minor": 2
}
